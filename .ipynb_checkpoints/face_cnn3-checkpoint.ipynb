{
 "cells": [
  {
   "cell_type": "code",
   "execution_count": 1,
   "metadata": {},
   "outputs": [],
   "source": [
    "\n",
    "import os, shutil\n",
    "def make_mydir(path):\n",
    "    if not os.path.isdir(path):\n",
    "        os.makedirs(path)\n",
    "\n",
    "base_dir = \"./facedata/\"\n",
    "make_mydir(base_dir)\n",
    "\n",
    "train_dir = os.path.join(base_dir, 'train')\n",
    "test_dir = os.path.join(base_dir, 'test')\n",
    "train_man = os.path.join(train_dir, '/man')\n",
    "test_man = os.path.join(test_dir, '/man')\n",
    "train_woman = os.path.join(train_dir, 'woman')\n",
    "test_woman = os.path.join(test_dir, 'woman')\n",
    "dir_list = [train_dir, test_dir, train_man, test_man, train_woman, test_woman]\n",
    "\n",
    "for d in dir_list:\n",
    "    make_mydir(d)"
   ]
  },
  {
   "cell_type": "code",
   "execution_count": 2,
   "metadata": {},
   "outputs": [
    {
     "data": {
      "text/plain": [
       "['./facedata/train',\n",
       " './facedata/test',\n",
       " '/man',\n",
       " '/man',\n",
       " './facedata/train\\\\woman',\n",
       " './facedata/test\\\\woman']"
      ]
     },
     "execution_count": 2,
     "metadata": {},
     "output_type": "execute_result"
    }
   ],
   "source": [
    "dir_list"
   ]
  },
  {
   "cell_type": "code",
   "execution_count": 3,
   "metadata": {},
   "outputs": [
    {
     "ename": "NameError",
     "evalue": "name 'valid_man' is not defined",
     "output_type": "error",
     "traceback": [
      "\u001b[1;31m---------------------------------------------------------------------------\u001b[0m",
      "\u001b[1;31mNameError\u001b[0m                                 Traceback (most recent call last)",
      "\u001b[1;32m<ipython-input-3-35a01da9c7ca>\u001b[0m in \u001b[0;36m<module>\u001b[1;34m\u001b[0m\n\u001b[1;32m----> 1\u001b[1;33m \u001b[0mvalid_man\u001b[0m\u001b[1;33m\u001b[0m\u001b[1;33m\u001b[0m\u001b[0m\n\u001b[0m",
      "\u001b[1;31mNameError\u001b[0m: name 'valid_man' is not defined"
     ]
    }
   ],
   "source": [
    "valid_man"
   ]
  },
  {
   "cell_type": "code",
   "execution_count": 4,
   "metadata": {},
   "outputs": [
    {
     "data": {
      "text/plain": [
       "'./facedata/test'"
      ]
     },
     "execution_count": 4,
     "metadata": {},
     "output_type": "execute_result"
    }
   ],
   "source": [
    "test_dir"
   ]
  },
  {
   "cell_type": "code",
   "execution_count": 12,
   "metadata": {},
   "outputs": [
    {
     "data": {
      "text/plain": [
       "'./facedata/test\\\\woman'"
      ]
     },
     "execution_count": 12,
     "metadata": {},
     "output_type": "execute_result"
    }
   ],
   "source": [
    "test_woman"
   ]
  },
  {
   "cell_type": "code",
   "execution_count": null,
   "metadata": {},
   "outputs": [],
   "source": []
  },
  {
   "cell_type": "code",
   "execution_count": 5,
   "metadata": {},
   "outputs": [],
   "source": [
    "\n",
    "org_man_dir = './facedata/man/'\n",
    "org_woman_dir = './facedata/woman/'\n",
    "man_faces = os.listdir(org_man_dir)\n",
    "woman_faces = os.listdir(org_woman_dir)\n",
    "\n"
   ]
  },
  {
   "cell_type": "code",
   "execution_count": 6,
   "metadata": {},
   "outputs": [
    {
     "name": "stdout",
     "output_type": "stream",
     "text": [
      "231\n",
      "258\n"
     ]
    }
   ],
   "source": [
    "print(len(man_faces))\n",
    "print(len(woman_faces))"
   ]
  },
  {
   "cell_type": "code",
   "execution_count": 30,
   "metadata": {},
   "outputs": [],
   "source": [
    "\n",
    "# 一応シャッフル\n",
    "import random\n",
    "random.shuffle(man_faces)\n",
    "random.shuffle(woman_faces)\n",
    "\n",
    "#男性の顔は120:29に分割\n",
    "man_train = [man_faces[i] for i in range(120)]\n",
    "man_test = [man_faces[i] for i in range(120, 149)]\n",
    "\n",
    "#女性は160:69に分解\n",
    "woman_train = [woman_faces[i] for i in range(160)]\n",
    "woman_test = [woman_faces[i] for i in range(160, 229)]\n",
    "\n",
    "\n",
    "# zip使いたかった\n",
    "list_data = [man_train, man_test, woman_train, woman_test]\n",
    "list_src   = [org_man_dir, org_man_dir, org_woman_dir, org_woman_dir]\n",
    "list_dest = [train_man, train_man, train_woman, train_woman]\n",
    "for data,src,dest in zip(list_data, list_src, list_dest):\n",
    "    for d in data:\n",
    "        src_file = os.path.join(src, d)\n",
    "        dest_file = os.path.join(dest, d)\n",
    "        shutil.copyfile(src_file, dest_file)\n"
   ]
  },
  {
   "cell_type": "code",
   "execution_count": 33,
   "metadata": {},
   "outputs": [
    {
     "data": {
      "text/plain": [
       "160"
      ]
     },
     "execution_count": 33,
     "metadata": {},
     "output_type": "execute_result"
    }
   ],
   "source": [
    "len(woman_train)"
   ]
  },
  {
   "cell_type": "code",
   "execution_count": 7,
   "metadata": {},
   "outputs": [],
   "source": [
    "classes = [\"man\",\"woman\"]\n",
    "num_classes = len(classes)\n",
    "image_size = 50\n",
    "num_testdata = 50\n",
    "\n",
    "#画像の読み込み\n",
    "X_train = []\n",
    "X_test = []\n",
    "Y_train = []\n",
    "Y_test = []\n",
    "\n",
    "#for index, classlabel in enumerate(classes):"
   ]
  },
  {
   "cell_type": "code",
   "execution_count": 8,
   "metadata": {},
   "outputs": [],
   "source": [
    "import os,glob\n",
    "import numpy as np\n",
    "from PIL import Image\n",
    "\n",
    "check = []\n",
    "\n",
    "for index, classlabel in enumerate(classes):\n",
    "    photos_dir = \"./facedata/\" + classlabel\n",
    "    files = glob.glob(photos_dir+\"/*.jpg\")\n",
    "#    print(files)\n",
    "    for i, file in enumerate(files):\n",
    "        if i >= 232: break\n",
    "        image = Image.open(file)\n",
    "        image = image.convert(\"RGB\")\n",
    "        image = image.resize((image_size,image_size))\n",
    "        data = np.asarray(image)\n",
    "        \n",
    "        if i < num_testdata:\n",
    "            X_test.append(data)\n",
    "            Y_test.append(index)\n",
    "            \n",
    "        else:\n",
    "            X_train.append(data)\n",
    "            Y_train.append(index)\n",
    "            \n",
    "            #角度を5度づつ、±20度までずらしてｎ増し\n",
    "            for angle in range(-20,20,5):\n",
    "                num = 1\n",
    "                img_r = image.rotate(angle)\n",
    "                data = np.asarray(img_r)\n",
    "                \n",
    "                X_train.append(data)\n",
    "                Y_train.append(index)\n",
    "\n",
    "                #反転\n",
    "                img_trans = image.transpose(Image.FLIP_LEFT_RIGHT)\n",
    "                data = np.asarray(img_trans)\n",
    "                X_train.append(data)\n",
    "                Y_train.append(index)\n",
    "                \n",
    "                if num < 20:\n",
    "                    check.append(data)\n",
    "                \n",
    "                num += num"
   ]
  },
  {
   "cell_type": "code",
   "execution_count": 9,
   "metadata": {},
   "outputs": [],
   "source": [
    "X_train = np.array(X_train)\n",
    "X_test = np.array(X_test)\n",
    "y_train = np.array(Y_train)\n",
    "y_test = np.array(Y_test)\n",
    "Check_im = np.array(check)\n",
    "\n",
    "#X_train,X_test,y_train,y_test = model_selection.train_test_split(X,Y)\n",
    "xy = (X_train,X_test,y_train,y_test)\n",
    "np.save(\"./face_aug.npy\",xy)"
   ]
  },
  {
   "cell_type": "code",
   "execution_count": 10,
   "metadata": {},
   "outputs": [
    {
     "name": "stdout",
     "output_type": "stream",
     "text": [
      "6171 100 6171 100\n"
     ]
    }
   ],
   "source": [
    "print(len(X_train),len(X_test),len(y_train),len(y_test))"
   ]
  },
  {
   "cell_type": "code",
   "execution_count": 11,
   "metadata": {},
   "outputs": [
    {
     "data": {
      "text/plain": [
       "<function matplotlib.pyplot.figure(num=None, figsize=None, dpi=None, facecolor=None, edgecolor=None, frameon=True, FigureClass=<class 'matplotlib.figure.Figure'>, clear=False, **kwargs)>"
      ]
     },
     "execution_count": 11,
     "metadata": {},
     "output_type": "execute_result"
    },
    {
     "name": "stderr",
     "output_type": "stream",
     "text": [
      "findfont: Font family ['IPAexGothic'] not found. Falling back to DejaVu Sans.\n"
     ]
    },
    {
     "data": {
      "image/png": "[encoded data removed]",
      "text/plain": [
       "<Figure size 432x288 with 1 Axes>"
      ]
     },
     "metadata": {
      "needs_background": "light"
     },
     "output_type": "display_data"
    }
   ],
   "source": [
    "import matplotlib.pyplot as plt\n",
    "plt.figure\n",
    "plt.imshow(img_r)\n",
    "plt.figure"
   ]
  },
  {
   "cell_type": "code",
   "execution_count": 12,
   "metadata": {},
   "outputs": [
    {
     "data": {
      "text/plain": [
       "(6171,)"
      ]
     },
     "execution_count": 12,
     "metadata": {},
     "output_type": "execute_result"
    }
   ],
   "source": [
    "y_train.shape"
   ]
  },
  {
   "cell_type": "code",
   "execution_count": null,
   "metadata": {},
   "outputs": [],
   "source": []
  },
  {
   "cell_type": "code",
   "execution_count": 13,
   "metadata": {},
   "outputs": [
    {
     "name": "stderr",
     "output_type": "stream",
     "text": [
      "Using TensorFlow backend.\n"
     ]
    }
   ],
   "source": [
    "from keras.models import Sequential\n",
    "from keras.layers import Conv2D,MaxPooling2D\n",
    "from keras.layers import Activation,Dropout,Flatten,Dense\n",
    "from keras.utils import np_utils\n",
    "import keras\n",
    "import numpy as np\n",
    "\n",
    "\n",
    "#X_train, X_test, y_train, y_test=np.load('./face_aug.npy',allow_pickle=True)\n",
    "#X_train, X_test, y_train, y_test=np.load(\"./animal.npy\")\n",
    "X_train = X_train.astype(\"float\")/256\n",
    "X_test = X_test.astype(\"float\")/256\n",
    "y_train = np_utils.to_categorical(y_train, num_classes)\n",
    "y_test = np_utils.to_categorical(y_test,num_classes)\n"
   ]
  },
  {
   "cell_type": "code",
   "execution_count": 14,
   "metadata": {},
   "outputs": [
    {
     "name": "stdout",
     "output_type": "stream",
     "text": [
      "6171 100 6171 100\n"
     ]
    }
   ],
   "source": [
    "print(len(X_train),len(X_test),len(y_train),len(y_test))"
   ]
  },
  {
   "cell_type": "code",
   "execution_count": 15,
   "metadata": {},
   "outputs": [
    {
     "data": {
      "text/plain": [
       "(6171, 2)"
      ]
     },
     "execution_count": 15,
     "metadata": {},
     "output_type": "execute_result"
    }
   ],
   "source": [
    "y_train.shape"
   ]
  },
  {
   "cell_type": "code",
   "execution_count": 16,
   "metadata": {},
   "outputs": [
    {
     "data": {
      "text/plain": [
       "(100, 2)"
      ]
     },
     "execution_count": 16,
     "metadata": {},
     "output_type": "execute_result"
    }
   ],
   "source": [
    "y_test.shape"
   ]
  },
  {
   "cell_type": "code",
   "execution_count": null,
   "metadata": {},
   "outputs": [],
   "source": []
  },
  {
   "cell_type": "code",
   "execution_count": 24,
   "metadata": {},
   "outputs": [],
   "source": [
    "model = Sequential()\n",
    "model.add(Conv2D(32,(3,3),padding='same',input_shape = X_train.shape[1:]))\n",
    "model.add(Activation('relu'))\n",
    "model.add(Conv2D(32,(3,3)))\n",
    "model.add(Activation('relu'))\n",
    "model.add(MaxPooling2D(pool_size=(2,2)))\n",
    "model.add(Dropout(0.25))\n",
    "\n",
    "model.add(Conv2D(64,(3,3),padding='same'))\n",
    "model.add(Activation('relu'))\n",
    "model.add(Conv2D(64,(3,3)))\n",
    "model.add(Activation('relu'))\n",
    "#model.add(Activation('relu'))\n",
    "model.add(MaxPooling2D(pool_size=(2,2)))\n",
    "model.add(Dropout(0.25))\n",
    "\n",
    "model.add(Flatten())\n",
    "model.add(Dense(512))\n",
    "model.add(Activation('relu'))\n",
    "model.add(Dropout(0.5))\n",
    "model.add(Dense(2))\n",
    "model.add(Activation('softmax'))\n",
    "\n"
   ]
  },
  {
   "cell_type": "code",
   "execution_count": 25,
   "metadata": {},
   "outputs": [
    {
     "name": "stdout",
     "output_type": "stream",
     "text": [
      "Epoch 1/50\n",
      "6528/6528 [==============================] - 58s 9ms/step - loss: 0.5899 - accuracy: 0.6811\n",
      "Epoch 2/50\n",
      "6528/6528 [==============================] - 61s 9ms/step - loss: 0.4832 - accuracy: 0.7776\n",
      "Epoch 3/50\n",
      "6528/6528 [==============================] - 60s 9ms/step - loss: 0.4203 - accuracy: 0.8045\n",
      "Epoch 4/50\n",
      "6528/6528 [==============================] - 62s 9ms/step - loss: 0.3780 - accuracy: 0.8215\n",
      "Epoch 5/50\n",
      "6528/6528 [==============================] - 62s 10ms/step - loss: 0.3319 - accuracy: 0.8513\n",
      "Epoch 6/50\n",
      "6528/6528 [==============================] - 62s 9ms/step - loss: 0.2984 - accuracy: 0.8729\n",
      "Epoch 7/50\n",
      "6528/6528 [==============================] - 61s 9ms/step - loss: 0.2620 - accuracy: 0.8917\n",
      "Epoch 8/50\n",
      "6528/6528 [==============================] - 61s 9ms/step - loss: 0.2268 - accuracy: 0.9049\n",
      "Epoch 9/50\n",
      "6528/6528 [==============================] - 61s 9ms/step - loss: 0.1996 - accuracy: 0.9197\n",
      "Epoch 10/50\n",
      "6528/6528 [==============================] - 61s 9ms/step - loss: 0.1670 - accuracy: 0.9361\n",
      "Epoch 11/50\n",
      "6528/6528 [==============================] - 61s 9ms/step - loss: 0.1439 - accuracy: 0.9452\n",
      "Epoch 12/50\n",
      "6528/6528 [==============================] - 63s 10ms/step - loss: 0.1181 - accuracy: 0.9582\n",
      "Epoch 13/50\n",
      "6528/6528 [==============================] - 61s 9ms/step - loss: 0.1040 - accuracy: 0.9605\n",
      "Epoch 14/50\n",
      "6528/6528 [==============================] - 61s 9ms/step - loss: 0.0799 - accuracy: 0.9730\n",
      "Epoch 15/50\n",
      "6528/6528 [==============================] - 63s 10ms/step - loss: 0.0703 - accuracy: 0.9746\n",
      "Epoch 16/50\n",
      "6528/6528 [==============================] - 62s 9ms/step - loss: 0.0609 - accuracy: 0.9795\n",
      "Epoch 17/50\n",
      "6528/6528 [==============================] - 63s 10ms/step - loss: 0.0499 - accuracy: 0.9830\n",
      "Epoch 18/50\n",
      "6528/6528 [==============================] - 61s 9ms/step - loss: 0.0448 - accuracy: 0.9845\n",
      "Epoch 19/50\n",
      "6528/6528 [==============================] - 61s 9ms/step - loss: 0.0396 - accuracy: 0.9865\n",
      "Epoch 20/50\n",
      "6528/6528 [==============================] - 62s 9ms/step - loss: 0.0343 - accuracy: 0.9879\n",
      "Epoch 21/50\n",
      "6528/6528 [==============================] - 62s 9ms/step - loss: 0.0314 - accuracy: 0.9899\n",
      "Epoch 22/50\n",
      "6528/6528 [==============================] - 61s 9ms/step - loss: 0.0286 - accuracy: 0.9907\n",
      "Epoch 23/50\n",
      "6528/6528 [==============================] - 62s 10ms/step - loss: 0.0243 - accuracy: 0.9928\n",
      "Epoch 24/50\n",
      "6528/6528 [==============================] - 62s 9ms/step - loss: 0.0203 - accuracy: 0.9940\n",
      "Epoch 25/50\n",
      "6528/6528 [==============================] - 61s 9ms/step - loss: 0.0190 - accuracy: 0.9939\n",
      "Epoch 26/50\n",
      "6528/6528 [==============================] - 61s 9ms/step - loss: 0.0189 - accuracy: 0.9943\n",
      "Epoch 27/50\n",
      "6528/6528 [==============================] - 61s 9ms/step - loss: 0.0134 - accuracy: 0.9956\n",
      "Epoch 28/50\n",
      "6528/6528 [==============================] - 61s 9ms/step - loss: 0.0163 - accuracy: 0.9937\n",
      "Epoch 29/50\n",
      "6528/6528 [==============================] - 62s 9ms/step - loss: 0.0124 - accuracy: 0.9959\n",
      "Epoch 30/50\n",
      "6528/6528 [==============================] - 66s 10ms/step - loss: 0.0118 - accuracy: 0.9966\n",
      "Epoch 31/50\n",
      "6528/6528 [==============================] - 62s 10ms/step - loss: 0.0102 - accuracy: 0.9971\n",
      "Epoch 32/50\n",
      "6528/6528 [==============================] - 62s 9ms/step - loss: 0.0120 - accuracy: 0.9956\n",
      "Epoch 33/50\n",
      "6528/6528 [==============================] - 62s 9ms/step - loss: 0.0109 - accuracy: 0.9966\n",
      "Epoch 34/50\n",
      "6528/6528 [==============================] - 62s 10ms/step - loss: 0.0093 - accuracy: 0.9974\n",
      "Epoch 35/50\n",
      "6528/6528 [==============================] - 63s 10ms/step - loss: 0.0105 - accuracy: 0.9962\n",
      "Epoch 36/50\n",
      "6528/6528 [==============================] - 65s 10ms/step - loss: 0.0102 - accuracy: 0.9965\n",
      "Epoch 37/50\n",
      "6528/6528 [==============================] - 67s 10ms/step - loss: 0.0090 - accuracy: 0.9975\n",
      "Epoch 38/50\n",
      "6528/6528 [==============================] - 66s 10ms/step - loss: 0.0061 - accuracy: 0.9982\n",
      "Epoch 39/50\n",
      "6528/6528 [==============================] - 67s 10ms/step - loss: 0.0070 - accuracy: 0.9977\n",
      "Epoch 40/50\n",
      "6528/6528 [==============================] - 65s 10ms/step - loss: 0.0080 - accuracy: 0.9968\n",
      "Epoch 41/50\n",
      "6528/6528 [==============================] - 64s 10ms/step - loss: 0.0091 - accuracy: 0.9980\n",
      "Epoch 42/50\n",
      "6528/6528 [==============================] - 68s 10ms/step - loss: 0.0076 - accuracy: 0.9980\n",
      "Epoch 43/50\n",
      "6528/6528 [==============================] - 63s 10ms/step - loss: 0.0053 - accuracy: 0.9979\n",
      "Epoch 44/50\n",
      "6528/6528 [==============================] - 64s 10ms/step - loss: 0.0064 - accuracy: 0.9977\n",
      "Epoch 45/50\n",
      "6528/6528 [==============================] - 62s 10ms/step - loss: 0.0073 - accuracy: 0.9982\n",
      "Epoch 46/50\n",
      "6528/6528 [==============================] - 62s 10ms/step - loss: 0.0044 - accuracy: 0.9988\n",
      "Epoch 47/50\n",
      "6528/6528 [==============================] - 70s 11ms/step - loss: 0.0063 - accuracy: 0.9982\n",
      "Epoch 48/50\n",
      "6528/6528 [==============================] - 63s 10ms/step - loss: 0.0040 - accuracy: 0.9988\n",
      "Epoch 49/50\n",
      "6528/6528 [==============================] - 89s 14ms/step - loss: 0.0061 - accuracy: 0.9988\n",
      "Epoch 50/50\n",
      "6528/6528 [==============================] - 92s 14ms/step - loss: 0.0074 - accuracy: 0.9974\n",
      "6528/6528 [==============================] - 24s 4ms/step\n",
      "accuracy=4.86333891269273e-05\n"
     ]
    }
   ],
   "source": [
    "opt = keras.optimizers.rmsprop(lr=0.0001, decay = 1e-6)\n",
    "\n",
    "model.compile(loss='categorical_crossentropy',optimizer= opt,metrics=['accuracy'])\n",
    "\n",
    "hist = model.fit(X_train,y_train,batch_size = 32,epochs = 50)\n",
    "scores = model.evaluate(X_train, y_train)\n",
    "print('accuracy={}'.format(*scores))\n",
    "\n",
    "#モデルの保存\n",
    "model.save('./face_cnn_aug.h5')"
   ]
  },
  {
   "cell_type": "code",
   "execution_count": 27,
   "metadata": {},
   "outputs": [
    {
     "name": "stderr",
     "output_type": "stream",
     "text": [
      "WARNING:matplotlib.font_manager:findfont: Font family ['IPAexGothic'] not found. Falling back to DejaVu Sans.\n"
     ]
    },
    {
     "data": {
      "image/png": "[encoded data removed]",
      "text/plain": [
       "<Figure size 432x288 with 1 Axes>"
      ]
     },
     "metadata": {
      "needs_background": "light"
     },
     "output_type": "display_data"
    },
    {
     "ename": "KeyError",
     "evalue": "'val_accuracy'",
     "output_type": "error",
     "traceback": [
      "\u001b[1;31m---------------------------------------------------------------------------\u001b[0m",
      "\u001b[1;31mKeyError\u001b[0m                                  Traceback (most recent call last)",
      "\u001b[1;32m<ipython-input-27-915ffbf3ff9d>\u001b[0m in \u001b[0;36m<module>\u001b[1;34m\u001b[0m\n\u001b[0;32m     11\u001b[0m \u001b[0mplt\u001b[0m\u001b[1;33m.\u001b[0m\u001b[0mfigure\u001b[0m\u001b[1;33m(\u001b[0m\u001b[1;33m)\u001b[0m\u001b[1;33m\u001b[0m\u001b[1;33m\u001b[0m\u001b[0m\n\u001b[0;32m     12\u001b[0m \u001b[0mplt\u001b[0m\u001b[1;33m.\u001b[0m\u001b[0mplot\u001b[0m\u001b[1;33m(\u001b[0m\u001b[0mhist\u001b[0m\u001b[1;33m.\u001b[0m\u001b[0mhistory\u001b[0m\u001b[1;33m[\u001b[0m\u001b[1;34m'accuracy'\u001b[0m\u001b[1;33m]\u001b[0m\u001b[1;33m)\u001b[0m\u001b[1;33m\u001b[0m\u001b[1;33m\u001b[0m\u001b[0m\n\u001b[1;32m---> 13\u001b[1;33m \u001b[0mplt\u001b[0m\u001b[1;33m.\u001b[0m\u001b[0mplot\u001b[0m\u001b[1;33m(\u001b[0m\u001b[0mhist\u001b[0m\u001b[1;33m.\u001b[0m\u001b[0mhistory\u001b[0m\u001b[1;33m[\u001b[0m\u001b[1;34m'val_accuracy'\u001b[0m\u001b[1;33m]\u001b[0m\u001b[1;33m)\u001b[0m\u001b[1;33m\u001b[0m\u001b[1;33m\u001b[0m\u001b[0m\n\u001b[0m\u001b[0;32m     14\u001b[0m \u001b[0mplt\u001b[0m\u001b[1;33m.\u001b[0m\u001b[0mtitle\u001b[0m\u001b[1;33m(\u001b[0m\u001b[1;34m'model accuracy'\u001b[0m\u001b[1;33m)\u001b[0m\u001b[1;33m\u001b[0m\u001b[1;33m\u001b[0m\u001b[0m\n\u001b[0;32m     15\u001b[0m \u001b[0mplt\u001b[0m\u001b[1;33m.\u001b[0m\u001b[0mylabel\u001b[0m\u001b[1;33m(\u001b[0m\u001b[1;34m'accuracy'\u001b[0m\u001b[1;33m)\u001b[0m\u001b[1;33m\u001b[0m\u001b[1;33m\u001b[0m\u001b[0m\n",
      "\u001b[1;31mKeyError\u001b[0m: 'val_accuracy'"
     ]
    },
    {
     "data": {
      "image/png": "[encoded data removed]",
      "text/plain": [
       "<Figure size 432x288 with 1 Axes>"
      ]
     },
     "metadata": {
      "needs_background": "light"
     },
     "output_type": "display_data"
    }
   ],
   "source": [
    "#loss\n",
    "plt.plot(hist.history['loss'])\n",
    "#plt.plot(hist.history['val_loss'])\n",
    "plt.title('model loss')\n",
    "plt.ylabel('loss')\n",
    "plt.xlabel('epoch')\n",
    "plt.legend(['train', 'test'], loc='upper left')\n",
    "plt.show()\n",
    " \n",
    "#Accuracy\n",
    "plt.figure()\n",
    "plt.plot(hist.history['accuracy'])\n",
    "plt.plot(hist.history['val_accuracy'])\n",
    "plt.title('model accuracy')\n",
    "plt.ylabel('accuracy')\n",
    "plt.xlabel('epoch')\n",
    "plt.legend(['train', 'test'], loc='upper left')\n",
    "plt.show()"
   ]
  },
  {
   "cell_type": "code",
   "execution_count": 17,
   "metadata": {},
   "outputs": [],
   "source": [
    "#モデル2 モデル①の改良版\n",
    "model2 = Sequential()\n",
    " \n",
    "model2.add(Conv2D(32, kernel_size=(3, 3),activation='relu',input_shape = X_train.shape[1:]))\n",
    "model2.add(MaxPooling2D(pool_size=(2, 2)))\n",
    "model2.add(Conv2D(64, (3, 3), activation='relu'))\n",
    "model2.add(MaxPooling2D((2, 2)))\n",
    "model2.add(Conv2D(128, (3, 3), activation='relu'))\n",
    "model2.add(MaxPooling2D((2, 2)))\n",
    "model2.add(Flatten())\n",
    "model2.add(Dense(128, activation='relu'))\n",
    "model2.add(Dropout(0.5))\n",
    "model2.add(Dense(num_classes, activation='softmax'))"
   ]
  },
  {
   "cell_type": "code",
   "execution_count": 222,
   "metadata": {},
   "outputs": [],
   "source": [
    "#モデル3　nishipyのモデル　出力層がDense1のシグモイド\n",
    "model3 = Sequential()\n",
    "\n",
    "model3.add(Conv2D(32, (3, 3), activation='relu',input_shape = X_train.shape[1:]))\n",
    "model3.add(MaxPooling2D((2, 2)))\n",
    "model3.add(Conv2D(64, (3, 3), activation='relu'))\n",
    "model3.add(MaxPooling2D((2, 2)))\n",
    "model3.add(Conv2D(128, (3, 3), activation='relu'))\n",
    "model3.add(MaxPooling2D((2, 2)))\n",
    "model3.add(Conv2D(128, (3, 3), activation='relu'))\n",
    "model3.add(MaxPooling2D((2, 2)))\n",
    "model3.add(Flatten())\n",
    "model3.add(Dropout(0.5)) # 過学習抑制のために、全結合層の前にDropout層を追加\n",
    "model3.add(Dense(512, activation='relu'))\n",
    "model3.add(Dense(1, activation='sigmoid'))"
   ]
  },
  {
   "cell_type": "code",
   "execution_count": 198,
   "metadata": {},
   "outputs": [],
   "source": []
  },
  {
   "cell_type": "code",
   "execution_count": 29,
   "metadata": {},
   "outputs": [
    {
     "name": "stdout",
     "output_type": "stream",
     "text": [
      "Train on 5875 samples, validate on 653 samples\n",
      "Epoch 1/50\n",
      "5875/5875 [==============================] - 16s 3ms/step - loss: 0.6855 - accuracy: 0.5670 - val_loss: 0.6953 - val_accuracy: 0.5421\n",
      "Epoch 2/50\n",
      "5875/5875 [==============================] - 18s 3ms/step - loss: 0.6280 - accuracy: 0.6545 - val_loss: 0.4863 - val_accuracy: 0.8315\n",
      "Epoch 3/50\n",
      "5875/5875 [==============================] - 18s 3ms/step - loss: 0.5596 - accuracy: 0.7159 - val_loss: 0.6209 - val_accuracy: 0.6907\n",
      "Epoch 4/50\n",
      "5875/5875 [==============================] - 16s 3ms/step - loss: 0.4696 - accuracy: 0.7782 - val_loss: 0.5274 - val_accuracy: 0.7902\n",
      "Epoch 5/50\n",
      "5875/5875 [==============================] - 16s 3ms/step - loss: 0.4088 - accuracy: 0.8094 - val_loss: 0.8415 - val_accuracy: 0.5666\n",
      "Epoch 6/50\n",
      "5875/5875 [==============================] - 20s 3ms/step - loss: 0.3432 - accuracy: 0.8456 - val_loss: 1.4401 - val_accuracy: 0.3660\n",
      "Epoch 7/50\n",
      "5875/5875 [==============================] - 24s 4ms/step - loss: 0.2307 - accuracy: 0.9091 - val_loss: 0.2137 - val_accuracy: 0.9096\n",
      "Epoch 8/50\n",
      "5875/5875 [==============================] - 25s 4ms/step - loss: 0.1713 - accuracy: 0.9331 - val_loss: 0.8228 - val_accuracy: 0.6585\n",
      "Epoch 9/50\n",
      "5875/5875 [==============================] - 29s 5ms/step - loss: 0.1101 - accuracy: 0.9603 - val_loss: 0.3285 - val_accuracy: 0.8928\n",
      "Epoch 10/50\n",
      "5875/5875 [==============================] - 22s 4ms/step - loss: 0.0701 - accuracy: 0.9774 - val_loss: 0.4582 - val_accuracy: 0.8545\n",
      "Epoch 11/50\n",
      "5875/5875 [==============================] - 18s 3ms/step - loss: 0.0352 - accuracy: 0.9898 - val_loss: 0.5823 - val_accuracy: 0.8530\n",
      "Epoch 12/50\n",
      "5875/5875 [==============================] - 18s 3ms/step - loss: 0.0310 - accuracy: 0.9898 - val_loss: 0.3902 - val_accuracy: 0.9035\n",
      "Epoch 13/50\n",
      "5875/5875 [==============================] - 18s 3ms/step - loss: 0.0274 - accuracy: 0.9920 - val_loss: 0.7618 - val_accuracy: 0.8392\n",
      "Epoch 14/50\n",
      "5875/5875 [==============================] - 18s 3ms/step - loss: 0.0103 - accuracy: 0.9976 - val_loss: 0.7110 - val_accuracy: 0.8300\n",
      "Epoch 15/50\n",
      "5875/5875 [==============================] - 17s 3ms/step - loss: 0.0105 - accuracy: 0.9971 - val_loss: 0.8418 - val_accuracy: 0.8331\n",
      "Epoch 16/50\n",
      "5875/5875 [==============================] - 18s 3ms/step - loss: 0.0033 - accuracy: 0.9998 - val_loss: 1.0021 - val_accuracy: 0.8162\n",
      "Epoch 17/50\n",
      "5875/5875 [==============================] - 19s 3ms/step - loss: 0.0048 - accuracy: 0.9990 - val_loss: 1.0619 - val_accuracy: 0.8300\n",
      "Epoch 18/50\n",
      "5875/5875 [==============================] - 17s 3ms/step - loss: 0.0014 - accuracy: 0.9998 - val_loss: 0.8699 - val_accuracy: 0.8407\n",
      "Epoch 19/50\n",
      "5875/5875 [==============================] - 18s 3ms/step - loss: 0.0403 - accuracy: 0.9876 - val_loss: 0.9112 - val_accuracy: 0.8361\n",
      "Epoch 20/50\n",
      "5875/5875 [==============================] - 25s 4ms/step - loss: 0.0016 - accuracy: 1.0000 - val_loss: 1.0886 - val_accuracy: 0.8315\n",
      "Epoch 21/50\n",
      "5875/5875 [==============================] - 29s 5ms/step - loss: 0.0012 - accuracy: 1.0000 - val_loss: 1.1283 - val_accuracy: 0.8315\n",
      "Epoch 22/50\n",
      "5875/5875 [==============================] - 20s 3ms/step - loss: 0.0018 - accuracy: 0.9995 - val_loss: 1.6815 - val_accuracy: 0.7734\n",
      "Epoch 23/50\n",
      "5875/5875 [==============================] - 18s 3ms/step - loss: 0.0031 - accuracy: 0.9991 - val_loss: 1.1214 - val_accuracy: 0.8361\n",
      "Epoch 24/50\n",
      "5875/5875 [==============================] - 17s 3ms/step - loss: 5.4833e-04 - accuracy: 1.0000 - val_loss: 1.2109 - val_accuracy: 0.8300\n",
      "Epoch 25/50\n",
      "5875/5875 [==============================] - 17s 3ms/step - loss: 0.0339 - accuracy: 0.9889 - val_loss: 1.1856 - val_accuracy: 0.7841\n",
      "Epoch 26/50\n",
      "5875/5875 [==============================] - 16s 3ms/step - loss: 0.0024 - accuracy: 0.9998 - val_loss: 1.0948 - val_accuracy: 0.8407\n",
      "Epoch 27/50\n",
      "5875/5875 [==============================] - 16s 3ms/step - loss: 7.8538e-04 - accuracy: 1.0000 - val_loss: 1.1888 - val_accuracy: 0.8331\n",
      "Epoch 28/50\n",
      "5875/5875 [==============================] - 17s 3ms/step - loss: 4.5569e-04 - accuracy: 1.0000 - val_loss: 1.3117 - val_accuracy: 0.8285\n",
      "Epoch 29/50\n",
      "5875/5875 [==============================] - 22s 4ms/step - loss: 2.7808e-04 - accuracy: 1.0000 - val_loss: 1.3768 - val_accuracy: 0.8315\n",
      "Epoch 30/50\n",
      "5875/5875 [==============================] - 22s 4ms/step - loss: 5.2893e-04 - accuracy: 0.9998 - val_loss: 1.2969 - val_accuracy: 0.8331\n",
      "Epoch 31/50\n",
      "5875/5875 [==============================] - 17s 3ms/step - loss: 2.2409e-04 - accuracy: 1.0000 - val_loss: 1.4435 - val_accuracy: 0.8300\n",
      "Epoch 32/50\n",
      "5875/5875 [==============================] - 19s 3ms/step - loss: 2.4819e-04 - accuracy: 1.0000 - val_loss: 1.3367 - val_accuracy: 0.8361\n",
      "Epoch 33/50\n",
      "5875/5875 [==============================] - 18s 3ms/step - loss: 1.4579e-04 - accuracy: 1.0000 - val_loss: 1.3528 - val_accuracy: 0.8331\n",
      "Epoch 34/50\n",
      "5875/5875 [==============================] - 17s 3ms/step - loss: 1.6008e-04 - accuracy: 1.0000 - val_loss: 1.4902 - val_accuracy: 0.8315\n",
      "Epoch 35/50\n",
      "5875/5875 [==============================] - 17s 3ms/step - loss: 1.5313e-04 - accuracy: 1.0000 - val_loss: 1.6370 - val_accuracy: 0.8086\n",
      "Epoch 36/50\n",
      "5875/5875 [==============================] - 16s 3ms/step - loss: 2.7258e-04 - accuracy: 1.0000 - val_loss: 1.3951 - val_accuracy: 0.8285\n",
      "Epoch 37/50\n",
      "5875/5875 [==============================] - 16s 3ms/step - loss: 1.2001e-04 - accuracy: 1.0000 - val_loss: 1.3329 - val_accuracy: 0.8361\n",
      "Epoch 38/50\n",
      "5875/5875 [==============================] - 16s 3ms/step - loss: 1.0941e-04 - accuracy: 1.0000 - val_loss: 1.5221 - val_accuracy: 0.8254\n",
      "Epoch 39/50\n",
      "5875/5875 [==============================] - 16s 3ms/step - loss: 8.9049e-05 - accuracy: 1.0000 - val_loss: 1.5564 - val_accuracy: 0.8285\n",
      "Epoch 40/50\n",
      "5875/5875 [==============================] - 17s 3ms/step - loss: 1.0724e-04 - accuracy: 1.0000 - val_loss: 1.5220 - val_accuracy: 0.8315\n",
      "Epoch 41/50\n",
      "5875/5875 [==============================] - 16s 3ms/step - loss: 6.4841e-05 - accuracy: 1.0000 - val_loss: 1.4275 - val_accuracy: 0.8392\n",
      "Epoch 42/50\n",
      "5875/5875 [==============================] - 16s 3ms/step - loss: 5.2751e-05 - accuracy: 1.0000 - val_loss: 1.5311 - val_accuracy: 0.8315\n",
      "Epoch 43/50\n",
      "5875/5875 [==============================] - 16s 3ms/step - loss: 4.9996e-05 - accuracy: 1.0000 - val_loss: 1.6562 - val_accuracy: 0.8300\n",
      "Epoch 44/50\n",
      "5875/5875 [==============================] - 17s 3ms/step - loss: 9.4816e-05 - accuracy: 1.0000 - val_loss: 1.7393 - val_accuracy: 0.8270\n",
      "Epoch 45/50\n",
      "5875/5875 [==============================] - 17s 3ms/step - loss: 6.5072e-05 - accuracy: 1.0000 - val_loss: 1.6546 - val_accuracy: 0.8300\n",
      "Epoch 46/50\n",
      "5875/5875 [==============================] - 19s 3ms/step - loss: 2.9704e-05 - accuracy: 1.0000 - val_loss: 1.7194 - val_accuracy: 0.8285\n",
      "Epoch 47/50\n",
      "5875/5875 [==============================] - 17s 3ms/step - loss: 3.9896e-05 - accuracy: 1.0000 - val_loss: 1.6548 - val_accuracy: 0.8300\n",
      "Epoch 48/50\n",
      "5875/5875 [==============================] - 17s 3ms/step - loss: 6.4793e-05 - accuracy: 1.0000 - val_loss: 1.6730 - val_accuracy: 0.8300\n",
      "Epoch 49/50\n",
      "5875/5875 [==============================] - 16s 3ms/step - loss: 6.7689e-05 - accuracy: 1.0000 - val_loss: 1.7477 - val_accuracy: 0.8254\n",
      "Epoch 50/50\n",
      "5875/5875 [==============================] - 16s 3ms/step - loss: 3.2433e-05 - accuracy: 1.0000 - val_loss: 1.7253 - val_accuracy: 0.8285\n",
      "6528/6528 [==============================] - 7s 1ms/step\n",
      "accuracy=0.17258692573158282\n"
     ]
    }
   ],
   "source": [
    "#コンパイル\n",
    "model2.compile(loss=keras.losses.categorical_crossentropy,\n",
    "              optimizer=keras.optimizers.Adadelta(),\n",
    "              metrics=['accuracy'])\n",
    "\n",
    "\n",
    "#学習を開始\n",
    "hist2 = model2.fit(X_train, y_train,\n",
    "                 batch_size=128,\n",
    "                 epochs=50,\n",
    "                 validation_split=0.1,\n",
    "                 verbose=1)\n",
    " \n",
    "#スコア算出\n",
    "scores = model2.evaluate(X_train, y_train)\n",
    "print('accuracy={}'.format(*scores))"
   ]
  },
  {
   "cell_type": "code",
   "execution_count": 31,
   "metadata": {},
   "outputs": [
    {
     "data": {
      "image/png": "[encoded data removed]",
      "text/plain": [
       "<Figure size 432x288 with 1 Axes>"
      ]
     },
     "metadata": {
      "needs_background": "light"
     },
     "output_type": "display_data"
    },
    {
     "data": {
      "image/png": "[encoded data removed]",
      "text/plain": [
       "<Figure size 432x288 with 1 Axes>"
      ]
     },
     "metadata": {
      "needs_background": "light"
     },
     "output_type": "display_data"
    }
   ],
   "source": [
    "\n",
    "#loss\n",
    "plt.plot(hist2.history['loss'])\n",
    "plt.plot(hist2.history['val_loss'])\n",
    "plt.title('model loss')\n",
    "plt.ylabel('loss')\n",
    "plt.xlabel('epoch')\n",
    "plt.legend(['train', 'test'], loc='upper left')\n",
    "plt.show()\n",
    " \n",
    "#Accuracy\n",
    "plt.figure()\n",
    "plt.plot(hist2.history['accuracy'])\n",
    "plt.plot(hist2.history['val_accuracy'])\n",
    "plt.title('model accuracy')\n",
    "plt.ylabel('accuracy')\n",
    "plt.xlabel('epoch')\n",
    "plt.legend(['train', 'test'], loc='upper left')\n",
    "plt.show()"
   ]
  },
  {
   "cell_type": "code",
   "execution_count": null,
   "metadata": {},
   "outputs": [],
   "source": []
  },
  {
   "cell_type": "code",
   "execution_count": 232,
   "metadata": {},
   "outputs": [
    {
     "name": "stdout",
     "output_type": "stream",
     "text": [
      "Train on 4115 samples, validate on 458 samples\n",
      "Epoch 1/60\n",
      "4115/4115 [==============================] - 10s 2ms/step - loss: 0.6816 - acc: 0.5426 - val_loss: 0.4887 - val_acc: 1.0000\n",
      "Epoch 2/60\n",
      "4115/4115 [==============================] - 11s 3ms/step - loss: 0.6664 - acc: 0.5796 - val_loss: 0.5107 - val_acc: 1.0000\n",
      "Epoch 3/60\n",
      "4115/4115 [==============================] - 11s 3ms/step - loss: 0.6471 - acc: 0.6340 - val_loss: 0.5729 - val_acc: 0.6769\n",
      "Epoch 4/60\n",
      "4115/4115 [==============================] - 11s 3ms/step - loss: 0.6286 - acc: 0.6688 - val_loss: 0.6444 - val_acc: 0.5742\n",
      "Epoch 5/60\n",
      "4115/4115 [==============================] - 11s 3ms/step - loss: 0.6186 - acc: 0.6719 - val_loss: 0.9072 - val_acc: 0.4039\n",
      "Epoch 6/60\n",
      "4115/4115 [==============================] - 11s 3ms/step - loss: 0.6057 - acc: 0.6923 - val_loss: 1.1066 - val_acc: 0.1419\n",
      "Epoch 7/60\n",
      "4115/4115 [==============================] - 10s 3ms/step - loss: 0.5898 - acc: 0.7040 - val_loss: 0.9863 - val_acc: 0.3253\n",
      "Epoch 8/60\n",
      "4115/4115 [==============================] - 11s 3ms/step - loss: 0.5755 - acc: 0.7186 - val_loss: 0.6705 - val_acc: 0.6070\n",
      "Epoch 9/60\n",
      "4115/4115 [==============================] - 11s 3ms/step - loss: 0.5589 - acc: 0.7324 - val_loss: 0.9322 - val_acc: 0.3908\n",
      "Epoch 10/60\n",
      "4115/4115 [==============================] - 11s 3ms/step - loss: 0.5447 - acc: 0.7436 - val_loss: 0.9110 - val_acc: 0.4127\n",
      "Epoch 11/60\n",
      "4115/4115 [==============================] - 11s 3ms/step - loss: 0.5306 - acc: 0.7555 - val_loss: 0.9809 - val_acc: 0.3341\n",
      "Epoch 12/60\n",
      "4115/4115 [==============================] - 11s 3ms/step - loss: 0.5179 - acc: 0.7577 - val_loss: 0.7669 - val_acc: 0.5502\n",
      "Epoch 13/60\n",
      "4115/4115 [==============================] - 11s 3ms/step - loss: 0.5070 - acc: 0.7723 - val_loss: 1.3774 - val_acc: 0.1070\n",
      "Epoch 14/60\n",
      "4115/4115 [==============================] - 11s 3ms/step - loss: 0.4913 - acc: 0.7815 - val_loss: 1.1639 - val_acc: 0.2991\n",
      "Epoch 15/60\n",
      "4115/4115 [==============================] - 11s 3ms/step - loss: 0.4782 - acc: 0.7920 - val_loss: 0.7498 - val_acc: 0.6223\n",
      "Epoch 16/60\n",
      "4115/4115 [==============================] - 11s 3ms/step - loss: 0.4714 - acc: 0.7903 - val_loss: 0.7089 - val_acc: 0.6638\n",
      "Epoch 17/60\n",
      "4115/4115 [==============================] - 11s 3ms/step - loss: 0.4534 - acc: 0.8041 - val_loss: 0.4194 - val_acc: 0.7948\n",
      "Epoch 18/60\n",
      "4115/4115 [==============================] - 11s 3ms/step - loss: 0.4460 - acc: 0.8046 - val_loss: 1.1907 - val_acc: 0.3341\n",
      "Epoch 19/60\n",
      "4115/4115 [==============================] - 11s 3ms/step - loss: 0.4324 - acc: 0.8141 - val_loss: 1.4081 - val_acc: 0.2402\n",
      "Epoch 20/60\n",
      "4115/4115 [==============================] - 11s 3ms/step - loss: 0.4302 - acc: 0.8117 - val_loss: 1.2598 - val_acc: 0.2707\n",
      "Epoch 21/60\n",
      "4115/4115 [==============================] - 11s 3ms/step - loss: 0.4114 - acc: 0.8194 - val_loss: 0.5285 - val_acc: 0.7467\n",
      "Epoch 22/60\n",
      "4115/4115 [==============================] - 11s 3ms/step - loss: 0.3996 - acc: 0.8348 - val_loss: 1.1407 - val_acc: 0.4847\n",
      "Epoch 23/60\n",
      "4115/4115 [==============================] - 11s 3ms/step - loss: 0.3953 - acc: 0.8311 - val_loss: 1.4046 - val_acc: 0.2598\n",
      "Epoch 24/60\n",
      "4115/4115 [==============================] - 11s 3ms/step - loss: 0.3803 - acc: 0.8474 - val_loss: 1.2958 - val_acc: 0.3362\n",
      "Epoch 25/60\n",
      "4115/4115 [==============================] - 11s 3ms/step - loss: 0.3742 - acc: 0.8476 - val_loss: 0.7606 - val_acc: 0.7074\n",
      "Epoch 26/60\n",
      "4115/4115 [==============================] - 11s 3ms/step - loss: 0.3653 - acc: 0.8493 - val_loss: 0.8136 - val_acc: 0.6943\n",
      "Epoch 27/60\n",
      "4115/4115 [==============================] - 11s 3ms/step - loss: 0.3460 - acc: 0.8639 - val_loss: 1.0801 - val_acc: 0.6288\n",
      "Epoch 28/60\n",
      "4115/4115 [==============================] - 11s 3ms/step - loss: 0.3351 - acc: 0.8627 - val_loss: 0.4574 - val_acc: 0.7969\n",
      "Epoch 29/60\n",
      "4115/4115 [==============================] - 11s 3ms/step - loss: 0.3239 - acc: 0.8695 - val_loss: 1.1853 - val_acc: 0.5677\n",
      "Epoch 30/60\n",
      "4115/4115 [==============================] - 11s 3ms/step - loss: 0.3031 - acc: 0.8821 - val_loss: 1.1408 - val_acc: 0.6550\n",
      "Epoch 31/60\n",
      "4115/4115 [==============================] - 11s 3ms/step - loss: 0.2943 - acc: 0.8809 - val_loss: 1.5313 - val_acc: 0.4454\n",
      "Epoch 32/60\n",
      "4115/4115 [==============================] - 11s 3ms/step - loss: 0.2965 - acc: 0.8841 - val_loss: 1.5683 - val_acc: 0.4563\n",
      "Epoch 33/60\n",
      "4115/4115 [==============================] - 11s 3ms/step - loss: 0.2777 - acc: 0.8875 - val_loss: 1.6566 - val_acc: 0.4563\n",
      "Epoch 34/60\n",
      "4115/4115 [==============================] - 11s 3ms/step - loss: 0.2632 - acc: 0.8950 - val_loss: 1.2616 - val_acc: 0.6681\n",
      "Epoch 35/60\n",
      "4115/4115 [==============================] - 11s 3ms/step - loss: 0.2576 - acc: 0.9018 - val_loss: 1.6061 - val_acc: 0.5175\n",
      "Epoch 36/60\n",
      "4115/4115 [==============================] - 11s 3ms/step - loss: 0.2453 - acc: 0.9086 - val_loss: 1.9841 - val_acc: 0.3755\n",
      "Epoch 37/60\n",
      "4115/4115 [==============================] - 11s 3ms/step - loss: 0.2347 - acc: 0.9091 - val_loss: 1.5792 - val_acc: 0.5830\n",
      "Epoch 38/60\n",
      "4115/4115 [==============================] - 11s 3ms/step - loss: 0.2330 - acc: 0.9047 - val_loss: 1.7009 - val_acc: 0.5590\n",
      "Epoch 39/60\n",
      "4115/4115 [==============================] - 11s 3ms/step - loss: 0.2081 - acc: 0.9179 - val_loss: 0.9680 - val_acc: 0.7380\n",
      "Epoch 40/60\n",
      "4115/4115 [==============================] - 11s 3ms/step - loss: 0.2078 - acc: 0.9183 - val_loss: 1.2451 - val_acc: 0.6900\n",
      "Epoch 41/60\n",
      "4115/4115 [==============================] - 11s 3ms/step - loss: 0.1910 - acc: 0.9286 - val_loss: 2.0414 - val_acc: 0.5284\n",
      "Epoch 42/60\n",
      "4115/4115 [==============================] - 11s 3ms/step - loss: 0.1897 - acc: 0.9259 - val_loss: 1.0773 - val_acc: 0.7271\n",
      "Epoch 43/60\n",
      "4115/4115 [==============================] - 11s 3ms/step - loss: 0.1749 - acc: 0.9366 - val_loss: 0.8490 - val_acc: 0.7467\n",
      "Epoch 44/60\n",
      "4115/4115 [==============================] - 11s 3ms/step - loss: 0.1694 - acc: 0.9395 - val_loss: 0.9339 - val_acc: 0.7424\n",
      "Epoch 45/60\n",
      "4115/4115 [==============================] - 11s 3ms/step - loss: 0.1556 - acc: 0.9436 - val_loss: 1.5478 - val_acc: 0.6332\n",
      "Epoch 46/60\n",
      "4115/4115 [==============================] - 11s 3ms/step - loss: 0.1510 - acc: 0.9480 - val_loss: 2.0014 - val_acc: 0.5415\n",
      "Epoch 47/60\n",
      "4115/4115 [==============================] - 11s 3ms/step - loss: 0.1381 - acc: 0.9529 - val_loss: 2.1130 - val_acc: 0.5611\n",
      "Epoch 48/60\n",
      "4115/4115 [==============================] - 11s 3ms/step - loss: 0.1426 - acc: 0.9473 - val_loss: 1.1511 - val_acc: 0.7424\n",
      "Epoch 49/60\n",
      "4115/4115 [==============================] - 11s 3ms/step - loss: 0.1316 - acc: 0.9533 - val_loss: 2.4260 - val_acc: 0.4520\n",
      "Epoch 50/60\n",
      "4115/4115 [==============================] - 11s 3ms/step - loss: 0.1236 - acc: 0.9587 - val_loss: 1.8076 - val_acc: 0.6572\n",
      "Epoch 51/60\n",
      "4115/4115 [==============================] - 11s 3ms/step - loss: 0.1177 - acc: 0.9599 - val_loss: 1.7702 - val_acc: 0.6550\n",
      "Epoch 52/60\n",
      "4115/4115 [==============================] - 11s 3ms/step - loss: 0.1181 - acc: 0.9599 - val_loss: 1.0492 - val_acc: 0.7533\n",
      "Epoch 53/60\n",
      "4115/4115 [==============================] - 11s 3ms/step - loss: 0.0960 - acc: 0.9716 - val_loss: 1.0972 - val_acc: 0.7511\n",
      "Epoch 54/60\n",
      "4115/4115 [==============================] - 11s 3ms/step - loss: 0.0928 - acc: 0.9699 - val_loss: 2.9626 - val_acc: 0.4869\n",
      "Epoch 55/60\n",
      "4115/4115 [==============================] - 11s 3ms/step - loss: 0.0922 - acc: 0.9716 - val_loss: 3.0732 - val_acc: 0.4192\n",
      "Epoch 56/60\n",
      "4115/4115 [==============================] - 11s 3ms/step - loss: 0.0910 - acc: 0.9713 - val_loss: 2.3198 - val_acc: 0.6135\n",
      "Epoch 57/60\n",
      "4115/4115 [==============================] - 11s 3ms/step - loss: 0.0822 - acc: 0.9740 - val_loss: 1.9816 - val_acc: 0.6354\n",
      "Epoch 58/60\n",
      "4115/4115 [==============================] - 11s 3ms/step - loss: 0.0779 - acc: 0.9776 - val_loss: 2.1335 - val_acc: 0.6310\n",
      "Epoch 59/60\n",
      "4115/4115 [==============================] - 11s 3ms/step - loss: 0.0714 - acc: 0.9789 - val_loss: 3.5551 - val_acc: 0.3712\n",
      "Epoch 60/60\n",
      "4115/4115 [==============================] - 11s 3ms/step - loss: 0.0700 - acc: 0.9789 - val_loss: 2.8611 - val_acc: 0.5502\n"
     ]
    },
    {
     "name": "stdout",
     "output_type": "stream",
     "text": [
      "4573/4573 [==============================] - 4s 885us/step\n",
      "accuracy=0.4508894731551706\n"
     ]
    }
   ],
   "source": [
    "# 二値に分類するため\n",
    "from keras import layers, models, optimizers\n",
    "\n",
    "model3.compile(loss='binary_crossentropy',optimizer=optimizers.RMSprop(lr=1e-4),metrics=['acc'])\n",
    "\n",
    "#学習を開始\n",
    "hist3 = model3.fit(X_train, y_train2,\n",
    "                 batch_size=128,\n",
    "                 epochs=60,\n",
    "                 validation_split=0.1,\n",
    "                 verbose=1)\n",
    "\n",
    "#スコア算出\n",
    "scores3 = model3.evaluate(X_train, y_train2)\n",
    "print('accuracy={}'.format(*scores))"
   ]
  },
  {
   "cell_type": "code",
   "execution_count": 230,
   "metadata": {},
   "outputs": [],
   "source": [
    "y_train2 = np.delete(y_train, 1, 1)"
   ]
  },
  {
   "cell_type": "code",
   "execution_count": 231,
   "metadata": {},
   "outputs": [
    {
     "data": {
      "text/plain": [
       "array([[1.],\n",
       "       [1.],\n",
       "       [1.],\n",
       "       ...,\n",
       "       [0.],\n",
       "       [0.],\n",
       "       [0.]], dtype=float32)"
      ]
     },
     "execution_count": 231,
     "metadata": {},
     "output_type": "execute_result"
    }
   ],
   "source": [
    "y_train2"
   ]
  },
  {
   "cell_type": "code",
   "execution_count": 213,
   "metadata": {},
   "outputs": [
    {
     "data": {
      "image/png": "[encoded data removed]",
      "text/plain": [
       "<Figure size 432x288 with 1 Axes>"
      ]
     },
     "metadata": {
      "needs_background": "light"
     },
     "output_type": "display_data"
    },
    {
     "data": {
      "image/png": "[encoded data removed]",
      "text/plain": [
       "<Figure size 432x288 with 1 Axes>"
      ]
     },
     "metadata": {
      "needs_background": "light"
     },
     "output_type": "display_data"
    }
   ],
   "source": [
    "\n",
    "#loss\n",
    "plt.plot(hist2.history['loss'])\n",
    "plt.plot(hist2.history['val_loss'])\n",
    "plt.title('model loss')\n",
    "plt.ylabel('loss')\n",
    "plt.xlabel('epoch')\n",
    "plt.legend(['train', 'test'], loc='upper left')\n",
    "plt.show()\n",
    " \n",
    "#Accuracy\n",
    "plt.figure()\n",
    "plt.plot(hist2.history['accuracy'])\n",
    "plt.plot(hist.history['val_accuracy'])\n",
    "plt.title('model accuracy')\n",
    "plt.ylabel('accuracy')\n",
    "plt.xlabel('epoch')\n",
    "plt.legend(['train', 'test'], loc='upper left')\n",
    "plt.show()"
   ]
  },
  {
   "cell_type": "code",
   "execution_count": 233,
   "metadata": {},
   "outputs": [
    {
     "data": {
      "image/png": "[encoded data removed]",
      "text/plain": [
       "<Figure size 432x288 with 1 Axes>"
      ]
     },
     "metadata": {
      "needs_background": "light"
     },
     "output_type": "display_data"
    },
    {
     "ename": "KeyError",
     "evalue": "'accuracy'",
     "output_type": "error",
     "traceback": [
      "\u001b[1;31m---------------------------------------------------------------------------\u001b[0m",
      "\u001b[1;31mKeyError\u001b[0m                                  Traceback (most recent call last)",
      "\u001b[1;32m<ipython-input-233-258addb8c2b8>\u001b[0m in \u001b[0;36m<module>\u001b[1;34m\u001b[0m\n\u001b[0;32m     10\u001b[0m \u001b[1;31m#Accuracy\u001b[0m\u001b[1;33m\u001b[0m\u001b[1;33m\u001b[0m\u001b[1;33m\u001b[0m\u001b[0m\n\u001b[0;32m     11\u001b[0m \u001b[0mplt\u001b[0m\u001b[1;33m.\u001b[0m\u001b[0mfigure\u001b[0m\u001b[1;33m(\u001b[0m\u001b[1;33m)\u001b[0m\u001b[1;33m\u001b[0m\u001b[1;33m\u001b[0m\u001b[0m\n\u001b[1;32m---> 12\u001b[1;33m \u001b[0mplt\u001b[0m\u001b[1;33m.\u001b[0m\u001b[0mplot\u001b[0m\u001b[1;33m(\u001b[0m\u001b[0mhist3\u001b[0m\u001b[1;33m.\u001b[0m\u001b[0mhistory\u001b[0m\u001b[1;33m[\u001b[0m\u001b[1;34m'accuracy'\u001b[0m\u001b[1;33m]\u001b[0m\u001b[1;33m)\u001b[0m\u001b[1;33m\u001b[0m\u001b[1;33m\u001b[0m\u001b[0m\n\u001b[0m\u001b[0;32m     13\u001b[0m \u001b[0mplt\u001b[0m\u001b[1;33m.\u001b[0m\u001b[0mplot\u001b[0m\u001b[1;33m(\u001b[0m\u001b[0mhist3\u001b[0m\u001b[1;33m.\u001b[0m\u001b[0mhistory\u001b[0m\u001b[1;33m[\u001b[0m\u001b[1;34m'val_accuracy'\u001b[0m\u001b[1;33m]\u001b[0m\u001b[1;33m)\u001b[0m\u001b[1;33m\u001b[0m\u001b[1;33m\u001b[0m\u001b[0m\n\u001b[0;32m     14\u001b[0m \u001b[0mplt\u001b[0m\u001b[1;33m.\u001b[0m\u001b[0mtitle\u001b[0m\u001b[1;33m(\u001b[0m\u001b[1;34m'model accuracy'\u001b[0m\u001b[1;33m)\u001b[0m\u001b[1;33m\u001b[0m\u001b[1;33m\u001b[0m\u001b[0m\n",
      "\u001b[1;31mKeyError\u001b[0m: 'accuracy'"
     ]
    },
    {
     "data": {
      "text/plain": [
       "<Figure size 432x288 with 0 Axes>"
      ]
     },
     "metadata": {},
     "output_type": "display_data"
    }
   ],
   "source": [
    "\n",
    "#loss\n",
    "plt.plot(hist3.history['loss'])\n",
    "plt.plot(hist3.history['val_loss'])\n",
    "plt.title('model loss')\n",
    "plt.ylabel('loss')\n",
    "plt.xlabel('epoch')\n",
    "plt.legend(['train', 'test'], loc='upper left')\n",
    "plt.show()\n",
    " \n",
    "#Accuracy\n",
    "plt.figure()\n",
    "plt.plot(hist3.history['accuracy'])\n",
    "plt.plot(hist3.history['val_accuracy'])\n",
    "plt.title('model accuracy')\n",
    "plt.ylabel('accuracy')\n",
    "plt.xlabel('epoch')\n",
    "plt.legend(['train', 'test'], loc='upper left')\n",
    "plt.show()"
   ]
  },
  {
   "cell_type": "code",
   "execution_count": 190,
   "metadata": {},
   "outputs": [],
   "source": [
    "y_pred = model.predict_classes(X_test)"
   ]
  },
  {
   "cell_type": "code",
   "execution_count": 192,
   "metadata": {},
   "outputs": [
    {
     "data": {
      "text/plain": [
       "array([1, 0, 1, 1, 1, 1, 1, 0, 0, 1, 1, 1, 0, 0, 1, 0, 0, 0, 1, 1, 0, 1,\n",
       "       0, 0, 0, 1, 1, 0, 0, 0, 0, 1, 0, 0, 0, 0, 0, 1, 0, 1, 1, 1, 1, 1,\n",
       "       1, 1, 1, 1, 1, 0, 1, 1, 1, 1, 1, 1, 0, 1, 1, 1, 1, 1, 1, 1, 1, 1,\n",
       "       0, 1, 1, 0, 1, 1, 1, 1, 1, 1, 1, 1, 1, 1], dtype=int64)"
      ]
     },
     "execution_count": 192,
     "metadata": {},
     "output_type": "execute_result"
    }
   ],
   "source": [
    "y_pred"
   ]
  },
  {
   "cell_type": "code",
   "execution_count": null,
   "metadata": {},
   "outputs": [],
   "source": []
  },
  {
   "cell_type": "code",
   "execution_count": 167,
   "metadata": {},
   "outputs": [
    {
     "name": "stdout",
     "output_type": "stream",
     "text": [
      "4573/4573 [==============================] - 8s 2ms/step\n",
      "accuracy=0.02554458397897597\n"
     ]
    }
   ],
   "source": [
    "scores = model.evaluate(X_train, y_train)\n",
    "print('accuracy={}'.format(*scores))"
   ]
  },
  {
   "cell_type": "code",
   "execution_count": 168,
   "metadata": {},
   "outputs": [
    {
     "ename": "NameError",
     "evalue": "name 'hist' is not defined",
     "output_type": "error",
     "traceback": [
      "\u001b[1;31m---------------------------------------------------------------------------\u001b[0m",
      "\u001b[1;31mNameError\u001b[0m                                 Traceback (most recent call last)",
      "\u001b[1;32m<ipython-input-168-3f3f1837167c>\u001b[0m in \u001b[0;36m<module>\u001b[1;34m\u001b[0m\n\u001b[0;32m      1\u001b[0m \u001b[1;31m#loss\u001b[0m\u001b[1;33m\u001b[0m\u001b[1;33m\u001b[0m\u001b[1;33m\u001b[0m\u001b[0m\n\u001b[1;32m----> 2\u001b[1;33m \u001b[0mplt\u001b[0m\u001b[1;33m.\u001b[0m\u001b[0mplot\u001b[0m\u001b[1;33m(\u001b[0m\u001b[0mhist\u001b[0m\u001b[1;33m.\u001b[0m\u001b[0mhistory\u001b[0m\u001b[1;33m[\u001b[0m\u001b[1;34m'loss'\u001b[0m\u001b[1;33m]\u001b[0m\u001b[1;33m)\u001b[0m\u001b[1;33m\u001b[0m\u001b[1;33m\u001b[0m\u001b[0m\n\u001b[0m\u001b[0;32m      3\u001b[0m \u001b[0mplt\u001b[0m\u001b[1;33m.\u001b[0m\u001b[0mplot\u001b[0m\u001b[1;33m(\u001b[0m\u001b[0mhist\u001b[0m\u001b[1;33m.\u001b[0m\u001b[0mhistory\u001b[0m\u001b[1;33m[\u001b[0m\u001b[1;34m'val_loss'\u001b[0m\u001b[1;33m]\u001b[0m\u001b[1;33m)\u001b[0m\u001b[1;33m\u001b[0m\u001b[1;33m\u001b[0m\u001b[0m\n\u001b[0;32m      4\u001b[0m \u001b[0mplt\u001b[0m\u001b[1;33m.\u001b[0m\u001b[0mtitle\u001b[0m\u001b[1;33m(\u001b[0m\u001b[1;34m'model loss'\u001b[0m\u001b[1;33m)\u001b[0m\u001b[1;33m\u001b[0m\u001b[1;33m\u001b[0m\u001b[0m\n\u001b[0;32m      5\u001b[0m \u001b[0mplt\u001b[0m\u001b[1;33m.\u001b[0m\u001b[0mylabel\u001b[0m\u001b[1;33m(\u001b[0m\u001b[1;34m'loss'\u001b[0m\u001b[1;33m)\u001b[0m\u001b[1;33m\u001b[0m\u001b[1;33m\u001b[0m\u001b[0m\n",
      "\u001b[1;31mNameError\u001b[0m: name 'hist' is not defined"
     ]
    }
   ],
   "source": [
    "\n",
    "#loss\n",
    "plt.plot(hist.history['loss'])\n",
    "plt.plot(hist.history['val_loss'])\n",
    "plt.title('model loss')\n",
    "plt.ylabel('loss')\n",
    "plt.xlabel('epoch')\n",
    "plt.legend(['train', 'test'], loc='upper left')\n",
    "plt.show()\n",
    " \n",
    "#Accuracy\n",
    "plt.figure()\n",
    "plt.plot(hist.history['accuracy'])\n",
    "plt.plot(hist.history['val_accuracy'])\n",
    "plt.title('model accuracy')\n",
    "plt.ylabel('accuracy')\n",
    "plt.xlabel('epoch')\n",
    "plt.legend(['train', 'test'], loc='upper left')\n",
    "plt.show()"
   ]
  },
  {
   "cell_type": "code",
   "execution_count": 120,
   "metadata": {},
   "outputs": [
    {
     "data": {
      "text/plain": [
       "(8449, 50, 50, 3)"
      ]
     },
     "execution_count": 120,
     "metadata": {},
     "output_type": "execute_result"
    }
   ],
   "source": [
    "X_train.shape"
   ]
  },
  {
   "cell_type": "code",
   "execution_count": null,
   "metadata": {},
   "outputs": [],
   "source": []
  },
  {
   "cell_type": "code",
   "execution_count": null,
   "metadata": {},
   "outputs": [],
   "source": []
  },
  {
   "cell_type": "code",
   "execution_count": null,
   "metadata": {},
   "outputs": [],
   "source": [
    "\n",
    "def model_train(X,y):\n",
    "    model = Sequential()\n",
    "    model.add(Conv2D(32,(3,3),padding='same',input_shape = X.shape[1:]))\n",
    "    model.add(Activation('relu'))\n",
    "    model.add(Conv2D(32,(3,3)))\n",
    "    model.add(Activation('relu'))\n",
    "    model.add(MaxPooling2D(pool_size=(2,2)))\n",
    "    model.add(Dropout(0.25))\n",
    "\n",
    "    model.add(Conv2D(64,(3,3),padding='same'))\n",
    "    model.add(Activation('relu'))\n",
    "    model.add(Conv2D(64,(3,3)))\n",
    "    model.add(Activation('relu'))\n",
    "    #model.add(Activation('relu'))\n",
    "    model.add(MaxPooling2D(pool_size=(2,2)))\n",
    "    model.add(Dropout(0.25))\n",
    "\n",
    "    model.add(Flatten())\n",
    "    model.add(Dense(512))\n",
    "    model.add(Activation('relu'))\n",
    "    model.add(Dropout(0.5))\n",
    "    model.add(Dense(3))\n",
    "    model.add(Activation('softmax'))\n",
    "\n",
    "    opt = keras.optimizers.rmsprop(lr=0.0001, decay = 1e-6)\n",
    "\n",
    "    model.compile(loss='categorical_crossentropy',optimizer= opt,metrics=['accuracy'])\n",
    "\n",
    "    model.fit(X,y,batch_size = 32,epochs = 50)\n",
    "\n",
    "    #モデルの保存\n",
    "    model.save('./animal_cnn.h5')\n",
    "\n",
    "    return model\n",
    "\n",
    "\n",
    "def model_eval(model,X,y):\n",
    "    scores = model.evaluate(X,y,verbose = 1)\n",
    "    print('test loss:',scores[0])\n",
    "    print('testaccuracy:',scores[1])\n",
    "\n",
    "if __name__ == \"__main__\":\n",
    "    main()"
   ]
  },
  {
   "cell_type": "code",
   "execution_count": null,
   "metadata": {},
   "outputs": [],
   "source": []
  },
  {
   "cell_type": "code",
   "execution_count": null,
   "metadata": {},
   "outputs": [],
   "source": []
  },
  {
   "cell_type": "code",
   "execution_count": null,
   "metadata": {},
   "outputs": [],
   "source": []
  },
  {
   "cell_type": "code",
   "execution_count": null,
   "metadata": {},
   "outputs": [],
   "source": [
    " \n",
    "man_train = [man_faces[i] for i in range(130)]\n",
    "man_test = [man_faces[i] for i in range(130, 180)]\n",
    " \n",
    "woman_train = [obama_faces[i] for i in range(130)]\n",
    "woman_test = [obama_faces[i] for i in range(130, 180)]\n",
    "\n",
    " \n",
    "# zip使いたかった\n",
    "list_data = [smalling_train, smalling_valid, smalling_test, obama_train, obama_valid, obama_test]\n",
    "list_src   = [org_smalling_dir, org_smalling_dir, org_smalling_dir, org_obama_dir, org_obama_dir, org_obama_dir]\n",
    "list_dest = [train_smalling, valid_smalling, test_smalling, train_obama, valid_obama, test_obama]\n",
    "for data,src,dest in zip(list_data, list_src, list_dest):\n",
    "    for d in data:\n",
    "        src_file = os.path.join(src, d)\n",
    "        dest_file = os.path.join(dest, d)\n",
    "        shutil.copyfile(src_file, dest_file)"
   ]
  },
  {
   "cell_type": "code",
   "execution_count": null,
   "metadata": {},
   "outputs": [],
   "source": []
  },
  {
   "cell_type": "code",
   "execution_count": null,
   "metadata": {},
   "outputs": [],
   "source": [
    "classes = [\"man\",\"woman\"]\n",
    "num_classes = len(classes)\n",
    "image_size = 50\n",
    "num_testdata = 100\n",
    "\n",
    "#画像の読み込み\n",
    "X_train = []\n",
    "X_test = []\n",
    "Y_train = []\n",
    "Y_test = []\n",
    "\n",
    "\n",
    "for index, classlabel in enumerate(classes):\n",
    "    photos_dir = \"./\" + classlabel\n",
    "    files = glob.glob(photos_dir+\"/*.jpg\")\n",
    "    for i, file in enumerate(files):\n",
    "        if i >= 217: break\n",
    "        image = Image.open(file)\n",
    "        image = image.convert(\"RGB\")\n",
    "        image = image.resize((image_size,image_size))\n",
    "        data = np.asarray(image)\n",
    "\n",
    "        if i < num_testdata:\n",
    "            X_test.append(data)\n",
    "            Y_test.append(index)\n",
    "\n",
    "        else:\n",
    "            X_train.append(data)\n",
    "            Y_train.append(index)\n",
    "\n",
    "            for angle in range(-20,20,5):\n",
    "                #img_r = img.rotate(angle)\n",
    "                img_r = image.rotate(angle)\n",
    "                data = np.asarray(img_r)\n",
    "                X_train.append(data)\n",
    "                Y_train.append(index)\n",
    "\n",
    "                #反転\n",
    "                img_trans = image.transpose(Image.FLIP_LEFT_RIGHT)\n",
    "                data = np.asarray(img_trans)\n",
    "                X_train.append(data)\n",
    "                Y_train.append(index)\n",
    "\n",
    "\n",
    "#X = np.array(X)\n",
    "#Y = np.array(Y)\n",
    "X_train = np.array(X_train)\n",
    "X_test = np.array(X_test)\n",
    "y_train = np.array(Y_train)\n",
    "y_test = np.array(Y_test)"
   ]
  },
  {
   "cell_type": "code",
   "execution_count": null,
   "metadata": {},
   "outputs": [],
   "source": []
  },
  {
   "cell_type": "code",
   "execution_count": null,
   "metadata": {},
   "outputs": [],
   "source": []
  },
  {
   "cell_type": "code",
   "execution_count": null,
   "metadata": {},
   "outputs": [],
   "source": []
  },
  {
   "cell_type": "code",
   "execution_count": null,
   "metadata": {},
   "outputs": [],
   "source": []
  },
  {
   "cell_type": "code",
   "execution_count": null,
   "metadata": {},
   "outputs": [],
   "source": []
  },
  {
   "cell_type": "code",
   "execution_count": null,
   "metadata": {},
   "outputs": [],
   "source": []
  },
  {
   "cell_type": "code",
   "execution_count": null,
   "metadata": {},
   "outputs": [],
   "source": []
  },
  {
   "cell_type": "code",
   "execution_count": null,
   "metadata": {},
   "outputs": [],
   "source": []
  },
  {
   "cell_type": "code",
   "execution_count": null,
   "metadata": {},
   "outputs": [],
   "source": []
  },
  {
   "cell_type": "code",
   "execution_count": null,
   "metadata": {},
   "outputs": [],
   "source": []
  }
 ],
 "metadata": {
  "kernelspec": {
   "display_name": "Python 3",
   "language": "python",
   "name": "python3"
  },
  "language_info": {
   "codemirror_mode": {
    "name": "ipython",
    "version": 3
   },
   "file_extension": ".py",
   "mimetype": "text/x-python",
   "name": "python",
   "nbconvert_exporter": "python",
   "pygments_lexer": "ipython3",
   "version": "3.6.10"
  }
 },
 "nbformat": 4,
 "nbformat_minor": 2
}
